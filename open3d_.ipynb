{
 "cells": [
  {
   "cell_type": "code",
   "execution_count": null,
   "metadata": {},
   "outputs": [],
   "source": [
    "#깃허브 테스트\n",
    "#rebase test"
   ]
  },
  {
   "cell_type": "code",
   "execution_count": 2,
   "metadata": {},
   "outputs": [
    {
     "data": {
      "application/vnd.jupyter.widget-view+json": {
       "model_id": "62a6738f1bb24b07a3d3c6c25bfea06e",
       "version_major": 2,
       "version_minor": 0
      },
      "text/plain": [
       "interactive(children=(IntSlider(value=119, description='layer_x', max=239), IntSlider(value=119, description='…"
      ]
     },
     "metadata": {},
     "output_type": "display_data"
    },
    {
     "data": {
      "text/plain": [
       "<function __main__.explore_3d_image(layer_x, layer_y, layer_z)>"
      ]
     },
     "execution_count": 2,
     "metadata": {},
     "output_type": "execute_result"
    }
   ],
   "source": [
    "import numpy as np\n",
    "import nibabel as nib   # 의료 및 뇌 영상 파일 형식에 대한 읽기/쓰기를 위한 모듈\n",
    "\n",
    "import itk              # 2D 및 3D 이미지 시각화 라이브러리\n",
    "import itkwidgets\n",
    "from ipywidgets import interact, interactive, IntSlider, ToggleButtons\n",
    "import matplotlib.pyplot as plt\n",
    "\n",
    "%matplotlib inline\n",
    "import seaborn as sns   # Matplotlib를 기반으로 하는 파이썬 데이터 시각화 라이브러리\n",
    "sns.set_style('darkgrid')\n",
    "from scipy import ndimage\n",
    "\n",
    "image_data = nib.load(\"/Users/leebyeongju/Desktop/segmentation visualize/data/BraTS20_Training_001_t1.nii\").get_fdata()\n",
    "output_data = nib.load(\"/Users/leebyeongju/Desktop/segmentation visualize/data/output_0.nii.gz\").get_fdata()\n",
    "mask_data= nib.load(\"/Users/leebyeongju/Desktop/segmentation visualize/data/BraTS20_Training_001_seg.nii\").get_fdata()\n",
    "\n",
    "# 데이터를 시각화하는 함수를 정의합니다.\n",
    "def explore_3d_image(layer_x,layer_y,layer_z):\n",
    "    \n",
    "    plt.figure(figsize=(10,15))\n",
    "    ax1= plt.subplot(1,3,1)\n",
    "    ax1.imshow(image_data[:,:,layer_z],cmap='gray')\n",
    "    ax1.imshow(mask_data[:,:,layer_z],alpha=0.4)\n",
    "    plt.axis('off')\n",
    "    ax2=plt.subplot(1,3,2)\n",
    "    ax2.imshow(ndimage.rotate(image_data[layer_x,:,:],90),cmap='gray')\n",
    "    ax2.imshow(ndimage.rotate(mask_data[layer_x,:,:],90),alpha=0.4)\n",
    "    ax3=plt.subplot(1,3,3)\n",
    "    ax3.imshow(ndimage.rotate(image_data[:,layer_y,:],90),cmap='gray')\n",
    "    ax3.imshow(ndimage.rotate(mask_data[:,layer_y,:],90),alpha=0.4)\n",
    "    plt.axis('off')\n",
    "    plt.show()\n",
    "    \n",
    "# Run the ipywidgets interact() function to explore the data\n",
    "interact(explore_3d_image, layer_x =(0, image_data.shape[0]-1),layer_y= (0, image_data.shape[1]-1), layer_z=(0, image_data.shape[2]-1))"
   ]
  },
  {
   "cell_type": "code",
   "execution_count": 2,
   "metadata": {},
   "outputs": [
    {
     "ename": "ModuleNotFoundError",
     "evalue": "No module named 'nibabel'",
     "output_type": "error",
     "traceback": [
      "\u001b[0;31m---------------------------------------------------------------------------\u001b[0m",
      "\u001b[0;31mModuleNotFoundError\u001b[0m                       Traceback (most recent call last)",
      "\u001b[0;32m/var/folders/v1/v77h54s97413r95k4krf7q400000gn/T/ipykernel_2896/2978394845.py\u001b[0m in \u001b[0;36m<module>\u001b[0;34m\u001b[0m\n\u001b[1;32m      1\u001b[0m \u001b[0;32mimport\u001b[0m \u001b[0mnumpy\u001b[0m \u001b[0;32mas\u001b[0m \u001b[0mnp\u001b[0m\u001b[0;34m\u001b[0m\u001b[0;34m\u001b[0m\u001b[0m\n\u001b[0;32m----> 2\u001b[0;31m \u001b[0;32mimport\u001b[0m \u001b[0mnibabel\u001b[0m \u001b[0;32mas\u001b[0m \u001b[0mnib\u001b[0m   \u001b[0;31m# 의료 및 뇌 영상 파일 형식에 대한 읽기/쓰기를 위한 모듈\u001b[0m\u001b[0;34m\u001b[0m\u001b[0;34m\u001b[0m\u001b[0m\n\u001b[0m\u001b[1;32m      3\u001b[0m \u001b[0;32mimport\u001b[0m \u001b[0mvtk\u001b[0m\u001b[0;34m\u001b[0m\u001b[0;34m\u001b[0m\u001b[0m\n\u001b[1;32m      4\u001b[0m \u001b[0;32mimport\u001b[0m \u001b[0mitk\u001b[0m              \u001b[0;31m# 2D 및 3D 이미지 시각화 라이브러리\u001b[0m\u001b[0;34m\u001b[0m\u001b[0;34m\u001b[0m\u001b[0m\n\u001b[1;32m      5\u001b[0m \u001b[0;32mimport\u001b[0m \u001b[0mitkwidgets\u001b[0m\u001b[0;34m\u001b[0m\u001b[0;34m\u001b[0m\u001b[0m\n",
      "\u001b[0;31mModuleNotFoundError\u001b[0m: No module named 'nibabel'"
     ]
    }
   ],
   "source": [
    "import numpy as np\n",
    "import nibabel as nib   # 의료 및 뇌 영상 파일 형식에 대한 읽기/쓰기를 위한 모듈\n",
    "import vtk\n",
    "import itk              # 2D 및 3D 이미지 시각화 라이브러리\n",
    "import itkwidgets\n",
    "from ipywidgets import interact, interactive, IntSlider, ToggleButtons\n",
    "import matplotlib.pyplot as plt\n",
    "import open3d as o3d\n",
    "%matplotlib inline\n",
    "import seaborn as sns   # Matplotlib를 기반으로 하는 파이썬 데이터 시각화 라이브러리\n",
    "sns.set_style('darkgrid')\n",
    "from scipy import ndimage\n",
    "import sys\n",
    "from PyQt5.QtWidgets import QApplication, QMainWindow, QWidget, QVBoxLayout, QGridLayout, QSlider, QOpenGLWidget\n",
    "from PyQt5.QtCore import Qt\n",
    "from vtk.qt.QVTKRenderWindowInteractor import QVTKRenderWindowInteractor\n",
    "from matplotlib.backends.backend_qt5agg import FigureCanvas as FigureCanvas\n",
    "from matplotlib.backends.backend_qt5agg import NavigationToolbar2QT as NavigationToolbar\n",
    "from matplotlib.figure import Figure\n",
    "from IPython.display import display\n",
    "\n",
    "image_data = nib.load(\"/Users/leebyeongju/Desktop/segmentation visualize/data/BraTS20_Training_001_t1.nii\").get_fdata()\n",
    "mask_data = nib.load(\"/Users/leebyeongju/Desktop/segmentation visualize/data/output_0.nii.gz\").get_fdata()\n",
    "\n",
    "class VisualizerWidget(QOpenGLWidget):\n",
    "    def __init__(self, parent=None):\n",
    "        super().__init__(parent)\n",
    "        self.vis = o3d.visualization.Visualizer()\n",
    "        \n",
    "\n",
    "class MyApp(QMainWindow):\n",
    "    \n",
    "    def __init__(self):\n",
    "        super().__init__()\n",
    "        self.vis_widget = VisualizerWidget()\n",
    "        self.setWindowTitle('Brain Tumor Segmentation')\n",
    "        self.setGeometry(200, 100, 1000, 800)\n",
    "        \n",
    "        self.slider_z = QSlider(Qt.Horizontal, self)\n",
    "        self.slider_z.setRange(0, image_data.shape[2]-1)\n",
    "        self.slider_z.setSingleStep(1)\n",
    "        \n",
    "        self.slider_x = QSlider(Qt.Horizontal, self)\n",
    "        self.slider_x.setRange(0, image_data.shape[0]-1)\n",
    "        self.slider_x.setSingleStep(1)\n",
    "        \n",
    "        self.slider_y = QSlider(Qt.Horizontal, self)\n",
    "        self.slider_y.setRange(0, image_data.shape[1]-1)\n",
    "        self.slider_y.setSingleStep(1)\n",
    "        \n",
    "        self.main_widget = QWidget()\n",
    "        self.setCentralWidget(self.main_widget)\n",
    "        \n",
    "        c1 = FigureCanvas(Figure())\n",
    "        c2 = FigureCanvas(Figure())\n",
    "        c3 = FigureCanvas(Figure())\n",
    "        \n",
    "        layout = QGridLayout(self.main_widget)\n",
    "        layout.addWidget(self.slider_z, 0, 0)\n",
    "        layout.addWidget(self.slider_x, 2, 0)\n",
    "        layout.addWidget(self.slider_y, 0, 1)\n",
    "        layout.addWidget(c1, 1, 0)\n",
    "        layout.addWidget(c2, 3, 0)\n",
    "        layout.addWidget(c3, 1, 1)\n",
    "        layout.addWidget(self.vis_widget,3,1)\n",
    "        \n",
    "        tumor = o3d.io.read_triangle_mesh(\"/Users/leebyeongju/Desktop/segmentation visualize/data/output/tumor.obj\")\n",
    "        self.vis_widget.vis.add_geometry(tumor)\n",
    "        \n",
    "        self.slider_z.valueChanged.connect(self.update_z)\n",
    "        self.slider_x.valueChanged.connect(self.update_x)\n",
    "        self.slider_y.valueChanged.connect(self.update_y)\n",
    "        \n",
    "        self.ax1 = c1.figure.subplots()\n",
    "        self.ax1.imshow(image_data[:,:,100],cmap='gray')\n",
    "        self.ax1.imshow(mask_data[:,:,100],alpha=0.3)\n",
    "        self.ax1.axis('off')\n",
    "        \n",
    "        self.ax2=c2.figure.subplots()\n",
    "        self.ax2.imshow(ndimage.rotate(image_data[100,:,:],90),cmap='gray')\n",
    "        self.ax2.imshow(ndimage.rotate(mask_data[100,:,:],90),alpha=0.3)\n",
    "        self.ax2.axis('off')\n",
    "        \n",
    "        self.ax3=c3.figure.subplots()\n",
    "        self.ax3.imshow(ndimage.rotate(image_data[:,100,:],90),cmap='gray')\n",
    "        self.ax3.imshow(ndimage.rotate(mask_data[:,100,:],90),alpha=0.3)\n",
    "        self.ax3.axis('off')\n",
    "      \n",
    "        self.show()\n",
    "        \n",
    "    def update_z(self):\n",
    "        self.ax1.clear()\n",
    "        self.ax1.imshow(image_data[:,:,self.slider_z.value()],cmap='gray')\n",
    "        self.ax1.imshow(mask_data[:,:,self.slider_z.value()],alpha=0.3)\n",
    "        self.ax1.axis('off')\n",
    "        self.ax1.figure.canvas.draw()\n",
    "        \n",
    "    def update_x(self):\n",
    "        self.ax2.clear()\n",
    "        self.ax2.imshow(ndimage.rotate(image_data[self.slider_x.value(),:,:],90),cmap='gray')\n",
    "        self.ax2.imshow(ndimage.rotate(mask_data[self.slider_x.value(),:,:],90),alpha=0.3)\n",
    "        self.ax2.axis('off')\n",
    "        self.ax2.figure.canvas.draw()\n",
    "        \n",
    "    def update_y(self):\n",
    "        self.ax3.clear()\n",
    "        self.ax3.imshow(ndimage.rotate(image_data[:,self.slider_y.value(),:],90),cmap='gray')\n",
    "        self.ax3.imshow(ndimage.rotate(mask_data[:,self.slider_y.value(),:],90),alpha=0.3)\n",
    "        self.ax3.axis('off')\n",
    "        self.ax3.figure.canvas.draw()\n",
    "     \n",
    "if __name__ == '__main__':\n",
    "  app = QApplication(sys.argv)\n",
    "  ex = MyApp()\n",
    "  sys.exit(app.exec_())\n",
    "  \n",
    "  "
   ]
  },
  {
   "cell_type": "code",
   "execution_count": 1,
   "metadata": {},
   "outputs": [
    {
     "name": "stderr",
     "output_type": "stream",
     "text": [
      "/Users/leebyeongju/opt/anaconda3/lib/python3.9/site-packages/pyqtgraph/colors/palette.py:1: RuntimeWarning: PyQtGraph supports Qt version >= 5.15, but 5.9.7 detected.\n",
      "  from ..Qt import QtGui\n"
     ]
    },
    {
     "ename": "SystemExit",
     "evalue": "0",
     "output_type": "error",
     "traceback": [
      "An exception has occurred, use %tb to see the full traceback.\n",
      "\u001b[0;31mSystemExit\u001b[0m\u001b[0;31m:\u001b[0m 0\n"
     ]
    },
    {
     "name": "stderr",
     "output_type": "stream",
     "text": [
      "/Users/leebyeongju/opt/anaconda3/lib/python3.9/site-packages/IPython/core/interactiveshell.py:3452: UserWarning: To exit: use 'exit', 'quit', or Ctrl-D.\n",
      "  warn(\"To exit: use 'exit', 'quit', or Ctrl-D.\", stacklevel=1)\n"
     ]
    }
   ],
   "source": [
    "import pyqtgraph.opengl as gl\n",
    "from PyQt5.QtWidgets import QApplication, QWidget, QVBoxLayout\n",
    "import sys\n",
    "import numpy as np\n",
    "\n",
    "class MainWindow(QWidget):\n",
    "    def __init__(self):\n",
    "        super().__init__()\n",
    "\n",
    "        # Create a mesh\n",
    "        verts = np.array([[0, 0, 0], [1, 0, 0], [0, 1, 0], [1, 1, 0]])\n",
    "        faces = np.array([[0, 1, 2], [1, 2, 3]])\n",
    "        colors = np.array([[1, 0, 0, 1], [0, 1, 0, 1]])\n",
    "        meshdata = gl.MeshData(vertexes=verts, faces=faces, faceColors=colors)\n",
    "\n",
    "        # Create a GLViewWidget and add the mesh to it\n",
    "        self.view = gl.GLViewWidget()\n",
    "        self.view.addItem(gl.GLMeshItem(meshdata=meshdata, smooth=False))\n",
    "\n",
    "        # Set up the layout\n",
    "        layout = QVBoxLayout()\n",
    "        layout.addWidget(self.view)\n",
    "        self.setLayout(layout)\n",
    "\n",
    "if __name__ == '__main__':\n",
    "    app = QApplication(sys.argv)\n",
    "    window = MainWindow()\n",
    "    window.show()\n",
    "    sys.exit(app.exec_())\n"
   ]
  },
  {
   "cell_type": "code",
   "execution_count": 4,
   "metadata": {},
   "outputs": [
    {
     "name": "stdout",
     "output_type": "stream",
     "text": [
      "Collecting nibabel\n",
      "  Downloading nibabel-5.0.1-py3-none-any.whl (3.3 MB)\n",
      "\u001b[K     |████████████████████████████████| 3.3 MB 6.8 MB/s eta 0:00:01\n",
      "\u001b[?25hRequirement already satisfied: setuptools in /Users/leebyeongju/opt/anaconda3/lib/python3.9/site-packages (from nibabel) (58.0.4)\n",
      "Requirement already satisfied: packaging>=17 in /Users/leebyeongju/opt/anaconda3/lib/python3.9/site-packages (from nibabel) (21.0)\n",
      "Requirement already satisfied: numpy>=1.19 in /Users/leebyeongju/opt/anaconda3/lib/python3.9/site-packages (from nibabel) (1.20.3)\n",
      "Requirement already satisfied: pyparsing>=2.0.2 in /Users/leebyeongju/opt/anaconda3/lib/python3.9/site-packages (from packaging>=17->nibabel) (3.0.4)\n",
      "Installing collected packages: nibabel\n",
      "Successfully installed nibabel-5.0.1\n",
      "Note: you may need to restart the kernel to use updated packages.\n"
     ]
    }
   ],
   "source": [
    "pip install nibabel"
   ]
  },
  {
   "cell_type": "code",
   "execution_count": 1,
   "metadata": {},
   "outputs": [
    {
     "name": "stderr",
     "output_type": "stream",
     "text": [
      "/Users/leebyeongju/opt/anaconda3/lib/python3.9/site-packages/pyqtgraph/colors/palette.py:1: RuntimeWarning: PyQtGraph supports Qt version >= 5.15, but 5.9.7 detected.\n",
      "  from ..Qt import QtGui\n",
      "/Users/leebyeongju/opt/anaconda3/lib/python3.9/site-packages/pyqtgraph/opengl/GLViewWidget.py:259: RuntimeWarning: \n",
      "Traceback (most recent call last):\n",
      "  File \"/Users/leebyeongju/opt/anaconda3/lib/python3.9/runpy.py\", line 197, in _run_module_as_main\n",
      "    return _run_code(code, main_globals, None,\n",
      "  File \"/Users/leebyeongju/opt/anaconda3/lib/python3.9/runpy.py\", line 87, in _run_code\n",
      "    exec(code, run_globals)\n",
      "  File \"/Users/leebyeongju/opt/anaconda3/lib/python3.9/site-packages/ipykernel_launcher.py\", line 16, in <module>\n",
      "    app.launch_new_instance()\n",
      "  File \"/Users/leebyeongju/opt/anaconda3/lib/python3.9/site-packages/traitlets/config/application.py\", line 846, in launch_instance\n",
      "    app.start()\n",
      "  File \"/Users/leebyeongju/opt/anaconda3/lib/python3.9/site-packages/ipykernel/kernelapp.py\", line 677, in start\n",
      "    self.io_loop.start()\n",
      "  File \"/Users/leebyeongju/opt/anaconda3/lib/python3.9/site-packages/tornado/platform/asyncio.py\", line 199, in start\n",
      "    self.asyncio_loop.run_forever()\n",
      "  File \"/Users/leebyeongju/opt/anaconda3/lib/python3.9/asyncio/base_events.py\", line 596, in run_forever\n",
      "    self._run_once()\n",
      "  File \"/Users/leebyeongju/opt/anaconda3/lib/python3.9/asyncio/base_events.py\", line 1890, in _run_once\n",
      "    handle._run()\n",
      "  File \"/Users/leebyeongju/opt/anaconda3/lib/python3.9/asyncio/events.py\", line 80, in _run\n",
      "    self._context.run(self._callback, *self._args)\n",
      "  File \"/Users/leebyeongju/opt/anaconda3/lib/python3.9/site-packages/ipykernel/kernelbase.py\", line 457, in dispatch_queue\n",
      "    await self.process_one()\n",
      "  File \"/Users/leebyeongju/opt/anaconda3/lib/python3.9/site-packages/ipykernel/kernelbase.py\", line 446, in process_one\n",
      "    await dispatch(*args)\n",
      "  File \"/Users/leebyeongju/opt/anaconda3/lib/python3.9/site-packages/ipykernel/kernelbase.py\", line 353, in dispatch_shell\n",
      "    await result\n",
      "  File \"/Users/leebyeongju/opt/anaconda3/lib/python3.9/site-packages/ipykernel/kernelbase.py\", line 648, in execute_request\n",
      "    reply_content = await reply_content\n",
      "  File \"/Users/leebyeongju/opt/anaconda3/lib/python3.9/site-packages/ipykernel/ipkernel.py\", line 353, in do_execute\n",
      "    res = shell.run_cell(code, store_history=store_history, silent=silent)\n",
      "  File \"/Users/leebyeongju/opt/anaconda3/lib/python3.9/site-packages/ipykernel/zmqshell.py\", line 533, in run_cell\n",
      "    return super(ZMQInteractiveShell, self).run_cell(*args, **kwargs)\n",
      "  File \"/Users/leebyeongju/opt/anaconda3/lib/python3.9/site-packages/IPython/core/interactiveshell.py\", line 2901, in run_cell\n",
      "    result = self._run_cell(\n",
      "  File \"/Users/leebyeongju/opt/anaconda3/lib/python3.9/site-packages/IPython/core/interactiveshell.py\", line 2947, in _run_cell\n",
      "    return runner(coro)\n",
      "  File \"/Users/leebyeongju/opt/anaconda3/lib/python3.9/site-packages/IPython/core/async_helpers.py\", line 68, in _pseudo_sync_runner\n",
      "    coro.send(None)\n",
      "  File \"/Users/leebyeongju/opt/anaconda3/lib/python3.9/site-packages/IPython/core/interactiveshell.py\", line 3172, in run_cell_async\n",
      "    has_raised = await self.run_ast_nodes(code_ast.body, cell_name,\n",
      "  File \"/Users/leebyeongju/opt/anaconda3/lib/python3.9/site-packages/IPython/core/interactiveshell.py\", line 3364, in run_ast_nodes\n",
      "    if (await self.run_code(code, result,  async_=asy)):\n",
      "  File \"/Users/leebyeongju/opt/anaconda3/lib/python3.9/site-packages/IPython/core/interactiveshell.py\", line 3444, in run_code\n",
      "    exec(code_obj, self.user_global_ns, self.user_ns)\n",
      "  File \"/var/folders/v1/v77h54s97413r95k4krf7q400000gn/T/ipykernel_3137/3303252563.py\", line 52, in <module>\n",
      "    sys.exit(app.exec_())\n",
      "  File \"/Users/leebyeongju/opt/anaconda3/lib/python3.9/site-packages/pyqtgraph/opengl/GLViewWidget.py\", line 238, in paintGL\n",
      "    self.drawItemTree(useItemNames=useItemNames)\n",
      "  File \"/Users/leebyeongju/opt/anaconda3/lib/python3.9/site-packages/pyqtgraph/opengl/GLViewWidget.py\", line 270, in drawItemTree\n",
      "    self.drawItemTree(i, useItemNames=useItemNames)\n",
      "  File \"/Users/leebyeongju/opt/anaconda3/lib/python3.9/site-packages/pyqtgraph/opengl/GLViewWidget.py\", line 259, in drawItemTree\n",
      "    debug.printExc()\n",
      "  --- exception caught here ---\n",
      "  File \"/Users/leebyeongju/opt/anaconda3/lib/python3.9/site-packages/pyqtgraph/opengl/GLViewWidget.py\", line 256, in drawItemTree\n",
      "    i.paint()\n",
      "  File \"/Users/leebyeongju/opt/anaconda3/lib/python3.9/site-packages/pyqtgraph/opengl/items/GLMeshItem.py\", line 165, in paint\n",
      "    self.parseMeshData()\n",
      "  File \"/Users/leebyeongju/opt/anaconda3/lib/python3.9/site-packages/pyqtgraph/opengl/items/GLMeshItem.py\", line 134, in parseMeshData\n",
      "    self.normals = md.vertexNormals()\n",
      "  File \"/Users/leebyeongju/opt/anaconda3/lib/python3.9/site-packages/pyqtgraph/opengl/MeshData.py\", line 208, in vertexNormals\n",
      "    faceNorms = self.faceNormals()\n",
      "  File \"/Users/leebyeongju/opt/anaconda3/lib/python3.9/site-packages/pyqtgraph/opengl/MeshData.py\", line 186, in faceNormals\n",
      "    v = self.vertexes(indexed='faces')\n",
      "  File \"/Users/leebyeongju/opt/anaconda3/lib/python3.9/site-packages/pyqtgraph/opengl/MeshData.py\", line 124, in vertexes\n",
      "    self._vertexesIndexedByFaces = self._vertexes[self.faces()]\n",
      "IndexError: index 41374 is out of bounds for axis 0 with size 41374\n",
      "  debug.printExc()\n"
     ]
    },
    {
     "name": "stdout",
     "output_type": "stream",
     "text": [
      "Error while drawing item <pyqtgraph.opengl.items.GLMeshItem.GLMeshItem object at 0x7ff40221ef70>.\n",
      "Error while drawing item <pyqtgraph.opengl.items.GLMeshItem.GLMeshItem object at 0x7ff40221ef70>.\n",
      "Error while drawing item <pyqtgraph.opengl.items.GLMeshItem.GLMeshItem object at 0x7ff40221ef70>.\n",
      "Error while drawing item <pyqtgraph.opengl.items.GLMeshItem.GLMeshItem object at 0x7ff40221ef70>.\n",
      "Error while drawing item <pyqtgraph.opengl.items.GLMeshItem.GLMeshItem object at 0x7ff40221ef70>.\n",
      "Error while drawing item <pyqtgraph.opengl.items.GLMeshItem.GLMeshItem object at 0x7ff40221ef70>.\n",
      "Error while drawing item <pyqtgraph.opengl.items.GLMeshItem.GLMeshItem object at 0x7ff40221ef70>.\n",
      "Error while drawing item <pyqtgraph.opengl.items.GLMeshItem.GLMeshItem object at 0x7ff40221ef70>.\n",
      "Error while drawing item <pyqtgraph.opengl.items.GLMeshItem.GLMeshItem object at 0x7ff40221ef70>.\n",
      "Error while drawing item <pyqtgraph.opengl.items.GLMeshItem.GLMeshItem object at 0x7ff40221ef70>.\n",
      "Error while drawing item <pyqtgraph.opengl.items.GLMeshItem.GLMeshItem object at 0x7ff40221ef70>.\n",
      "Error while drawing item <pyqtgraph.opengl.items.GLMeshItem.GLMeshItem object at 0x7ff40221ef70>.\n",
      "Error while drawing item <pyqtgraph.opengl.items.GLMeshItem.GLMeshItem object at 0x7ff40221ef70>.\n",
      "Error while drawing item <pyqtgraph.opengl.items.GLMeshItem.GLMeshItem object at 0x7ff40221ef70>.\n",
      "Error while drawing item <pyqtgraph.opengl.items.GLMeshItem.GLMeshItem object at 0x7ff40221ef70>.\n",
      "Error while drawing item <pyqtgraph.opengl.items.GLMeshItem.GLMeshItem object at 0x7ff40221ef70>.\n"
     ]
    },
    {
     "ename": "SystemExit",
     "evalue": "0",
     "output_type": "error",
     "traceback": [
      "An exception has occurred, use %tb to see the full traceback.\n",
      "\u001b[0;31mSystemExit\u001b[0m\u001b[0;31m:\u001b[0m 0\n"
     ]
    },
    {
     "name": "stderr",
     "output_type": "stream",
     "text": [
      "/Users/leebyeongju/opt/anaconda3/lib/python3.9/site-packages/IPython/core/interactiveshell.py:3452: UserWarning: To exit: use 'exit', 'quit', or Ctrl-D.\n",
      "  warn(\"To exit: use 'exit', 'quit', or Ctrl-D.\", stacklevel=1)\n"
     ]
    }
   ],
   "source": [
    "import pyqtgraph.opengl as gl\n",
    "from PyQt5.QtGui import QBrush, QColor\n",
    "from PyQt5.QtWidgets import QApplication, QGraphicsScene, QGraphicsView, QVBoxLayout, QWidget\n",
    "import sys\n",
    "import pyqtgraph\n",
    "\n",
    "class MainWindow(QWidget):\n",
    "    def __init__(self):\n",
    "        super().__init__()\n",
    "\n",
    "        # Create a GLViewWidget\n",
    "        self.view = gl.GLViewWidget()\n",
    "        \n",
    "        bgcolor = self.view.setBackgroundColor(pyqtgraph.mkColor('w'))\n",
    "\n",
    "        # Set up the QGraphicsScene and save the returned value\n",
    "        scene = QGraphicsScene()\n",
    "        scene.setBackgroundBrush(QBrush(QColor(0, 0, 0, 0)))\n",
    "        self.view.setCameraPosition(distance=50, elevation=20, azimuth=120)\n",
    "\n",
    "\n",
    "        # Load the .obj file\n",
    "        # Load the .obj file\n",
    "        with open('/Users/leebyeongju/Desktop/segmentation_GUI/data/output/t2.obj', 'r') as f:\n",
    "            vertices = []\n",
    "            faces = []\n",
    "            for line in f:\n",
    "                if line.startswith('v '):\n",
    "                    vertex = list(map(float, line[2:].strip().split(' ')))\n",
    "                    vertices.append(vertex)\n",
    "                elif line.startswith('f '):\n",
    "                    face = line[2:].strip().split(' ')\n",
    "                    # Ignore additional information (such as texture and normal indices) after vertex indices\n",
    "                    face_indices = [int(vertex.split('//')[0]) for vertex in face]\n",
    "                    faces.append(face_indices)\n",
    "            meshdata = gl.MeshData(vertexes=vertices, faces=faces)\n",
    "\n",
    "\n",
    "        # Create a GLMeshItem and add it to the GLViewWidget\n",
    "        meshitem = gl.GLMeshItem(meshdata=meshdata, smooth=True, shader='normalColor')\n",
    "        self.view.addItem(meshitem)\n",
    "        self.view.setCameraPosition(distance=300, elevation=30, azimuth=30)\n",
    "        # Set up the layout\n",
    "        layout = QVBoxLayout()\n",
    "        layout.addWidget(self.view)\n",
    "        self.setLayout(layout)\n",
    "\n",
    "if __name__ == '__main__':\n",
    "    app = QApplication(sys.argv)\n",
    "    window = MainWindow()\n",
    "    window.show()\n",
    "    sys.exit(app.exec_())\n"
   ]
  },
  {
   "cell_type": "code",
   "execution_count": 7,
   "metadata": {},
   "outputs": [
    {
     "name": "stdout",
     "output_type": "stream",
     "text": [
      "Collecting PyOpenGL\n",
      "  Downloading PyOpenGL-3.1.6-py3-none-any.whl (2.4 MB)\n",
      "\u001b[K     |████████████████████████████████| 2.4 MB 7.6 MB/s eta 0:00:01\n",
      "\u001b[?25hInstalling collected packages: PyOpenGL\n",
      "Successfully installed PyOpenGL-3.1.6\n",
      "Note: you may need to restart the kernel to use updated packages.\n"
     ]
    }
   ],
   "source": [
    "pip install PyOpenGL"
   ]
  },
  {
   "cell_type": "code",
   "execution_count": null,
   "metadata": {},
   "outputs": [],
   "source": []
  }
 ],
 "metadata": {
  "kernelspec": {
   "display_name": "base",
   "language": "python",
   "name": "python3"
  },
  "language_info": {
   "codemirror_mode": {
    "name": "ipython",
    "version": 3
   },
   "file_extension": ".py",
   "mimetype": "text/x-python",
   "name": "python",
   "nbconvert_exporter": "python",
   "pygments_lexer": "ipython3",
   "version": "3.9.7"
  },
  "orig_nbformat": 4,
  "vscode": {
   "interpreter": {
    "hash": "0c3d1564a1409a17ea19086fe7a4726f74a986daac9e02acd719c262bc1ff9ca"
   }
  }
 },
 "nbformat": 4,
 "nbformat_minor": 2
}
